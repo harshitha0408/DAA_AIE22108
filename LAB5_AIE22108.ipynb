{
  "cells": [
    {
      "cell_type": "code",
      "execution_count": 1,
      "metadata": {
        "colab": {
          "base_uri": "https://localhost:8080/"
        },
        "id": "glVfOZ2dfXE9",
        "outputId": "6a3e5bef-b124-4365-9468-0ff938c0b325"
      },
      "outputs": [
        {
          "name": "stdout",
          "output_type": "stream",
          "text": [
            "4\n",
            "19\n",
            "12\n"
          ]
        }
      ],
      "source": [
        "def calculate_total_candies(n, ratings):\n",
        "    candies = [1] * n\n",
        "\n",
        "    \n",
        "    for i in range(1, n):\n",
        "        if ratings[i] > ratings[i - 1]:\n",
        "            candies[i] = candies[i - 1] + 1\n",
        "\n",
        "\n",
        "    for i in range(n - 2, -1, -1):\n",
        "        if ratings[i] > ratings[i + 1]:\n",
        "            candies[i] = max(candies[i], candies[i + 1] + 1)\n",
        "\n",
        "    return sum(candies)\n",
        "\n",
        "\n",
        "n = 3\n",
        "ratings = [1, 2, 2]\n",
        "print(calculate_total_candies(n, ratings))\n",
        "\n",
        "n = 10\n",
        "ratings = [2, 4, 2, 6, 1, 7, 8, 9, 2, 1]\n",
        "print(calculate_total_candies(n, ratings))\n",
        "\n",
        "n = 8\n",
        "ratings = [2, 4, 3, 5, 2, 6, 4, 5]\n",
        "print(calculate_total_candies(n, ratings))\n"
      ]
    },
    {
      "cell_type": "code",
      "execution_count": 2,
      "metadata": {
        "colab": {
          "base_uri": "https://localhost:8080/"
        },
        "id": "NcAXRVA-fqNH",
        "outputId": "9a9e5f99-b6d4-43c0-91fb-c028ff6950da"
      },
      "outputs": [
        {
          "name": "stdout",
          "output_type": "stream",
          "text": [
            "100\n"
          ]
        }
      ],
      "source": [
        "def max_people_in_sunny_town(towns_pop, towns_loc, clouds_loc, clouds_range):\n",
        "    total_population = sum(towns_pop)\n",
        "\n",
        "    max_people_sunny_town = 0\n",
        "\n",
        "    for i in range(len(clouds_loc)):\n",
        "        cloud_loc = clouds_loc[i]\n",
        "        cloud_range = clouds_range[i]\n",
        "\n",
        "        people_covered = 0\n",
        "        for j in range(len(towns_loc)):\n",
        "            town_loc = towns_loc[j]\n",
        "            town_population = towns_pop[j]\n",
        "\n",
        "            if abs(town_loc - cloud_loc) <= cloud_range:\n",
        "                people_covered += town_population\n",
        "\n",
        "        max_people_sunny_town = max(max_people_sunny_town, total_population - people_covered)\n",
        "\n",
        "    return max_people_sunny_town\n",
        "\n",
        "\n",
        "towns_populations = [10, 100]\n",
        "towns_locations = [5, 100]\n",
        "clouds_locations = [4]\n",
        "clouds_ranges = [1]\n",
        "\n",
        "print(max_people_in_sunny_town(towns_populations, towns_locations, clouds_locations, clouds_ranges))  # Output: 110\n"
      ]
    }
  ],
  "metadata": {
    "colab": {
      "provenance": []
    },
    "kernelspec": {
      "display_name": "Python 3",
      "name": "python3"
    },
    "language_info": {
      "name": "python"
    }
  },
  "nbformat": 4,
  "nbformat_minor": 0
}
