{
  "cells": [
    {
      "cell_type": "code",
      "execution_count": 4,
      "metadata": {
        "colab": {
          "base_uri": "https://localhost:8080/"
        },
        "id": "AknVx45CghGa",
        "outputId": "4351e3b3-f7f6-4867-99ca-a9e423156e74"
      },
      "outputs": [
        {
          "name": "stdout",
          "output_type": "stream",
          "text": [
            "Selected Items:\n",
            "Value: 60, Mass: 10, Fraction: 1\n",
            "Value: 100, Mass: 20, Fraction: 1\n",
            "Value: 120, Mass: 30, Fraction: 0.6666666666666666\n",
            "Total Value: 240.0\n"
          ]
        }
      ],
      "source": [
        "class Item:\n",
        "    def __init__(self, value, mass):\n",
        "        self.value = value\n",
        "        self.mass = mass\n",
        "        self.ratio = value / mass\n",
        "\n",
        "def fractional_knapsack(items, capacity):\n",
        "    sorted_items = sorted(items, key=lambda x: x.ratio, reverse=True)\n",
        "\n",
        "    total_value = 0\n",
        "    knapsack = []\n",
        "\n",
        "    for item in sorted_items:\n",
        "        if capacity >= item.mass:\n",
        "            knapsack.append((item, 1))\n",
        "            total_value += item.value\n",
        "            capacity -= item.mass\n",
        "        else:\n",
        "            fraction = capacity / item.mass\n",
        "            knapsack.append((item, fraction))\n",
        "            total_value += item.value * fraction\n",
        "            capacity = 0\n",
        "            break\n",
        "\n",
        "    return knapsack, total_value\n",
        "\n",
        "\n",
        "items = [Item(60, 10), Item(100, 20), Item(120, 30)]\n",
        "capacity = 50\n",
        "\n",
        "selected_items, total_value = fractional_knapsack(items, capacity)\n",
        "\n",
        "print(\"Selected Items:\")\n",
        "for item, fraction in selected_items:\n",
        "    print(f\"Value: {item.value}, Mass: {item.mass}, Fraction: {fraction}\")\n",
        "\n",
        "print(\"Total Value:\", total_value)\n"
      ]
    },
    {
      "cell_type": "code",
      "execution_count": 5,
      "metadata": {
        "colab": {
          "base_uri": "https://localhost:8080/"
        },
        "id": "aWLW6vIVhKIu",
        "outputId": "bcd853b6-1628-4a03-9339-2fb88ad48cb5"
      },
      "outputs": [
        {
          "name": "stdout",
          "output_type": "stream",
          "text": [
            "Maximum sum: 40\n"
          ]
        }
      ],
      "source": [
        "def maximize_sum(numbers):\n",
        "    numbers.sort()\n",
        "    total_sum = sum(numbers[i] * i for i in range(len(numbers)))\n",
        "    return total_sum\n",
        "numbers = [2, 5, 3, 4, 0]\n",
        "maximized_sum = maximize_sum(numbers)\n",
        "print(\"Maximum sum:\", maximized_sum)\n"
      ]
    },
    {
      "cell_type": "code",
      "execution_count": 6,
      "metadata": {
        "colab": {
          "base_uri": "https://localhost:8080/"
        },
        "id": "T8ln8gjciDPR",
        "outputId": "77534c1a-6179-4753-fdee-4d0a2c7f7c0d"
      },
      "outputs": [
        {
          "name": "stdout",
          "output_type": "stream",
          "text": [
            "Minimum sum of products: 104\n"
          ]
        }
      ],
      "source": [
        "def minimize_product_sum(list_one, list_two):\n",
        "    list_one.sort()\n",
        "    list_two.sort(reverse=True)\n",
        "\n",
        "\n",
        "    total = sum(list_one[i] * list_two[i] for i in range(len(list_one)))\n",
        "\n",
        "    return total\n",
        "\n",
        "list_one = [7, 5, 1, 4]\n",
        "list_two = [6, 17, 9, 3]\n",
        "minimized_sum = minimize_product_sum(list_one, list_two)\n",
        "print(\"Minimum sum of products:\", minimized_sum)\n"
      ]
    }
  ],
  "metadata": {
    "colab": {
      "provenance": []
    },
    "kernelspec": {
      "display_name": "Python 3",
      "name": "python3"
    },
    "language_info": {
      "name": "python"
    }
  },
  "nbformat": 4,
  "nbformat_minor": 0
}
